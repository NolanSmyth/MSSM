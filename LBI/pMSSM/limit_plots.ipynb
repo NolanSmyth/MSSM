{
 "cells": [
  {
   "cell_type": "code",
   "execution_count": 37,
   "metadata": {},
   "outputs": [
    {
     "name": "stdout",
     "output_type": "stream",
     "text": [
      "The autoreload extension is already loaded. To reload it, use:\n",
      "  %reload_ext autoreload\n"
     ]
    }
   ],
   "source": [
    "import jax\n",
    "import jax.numpy as np\n",
    "import numpy as onp\n",
    "from lbi.pipeline.base import pipeline\n",
    "from lbi.prior import SmoothedBoxPrior\n",
    "import h5py\n",
    "import limits_plots as lp\n",
    "import corner\n",
    "import matplotlib.pyplot as plt\n",
    "\n",
    "%load_ext autoreload\n",
    "%autoreload 2\n",
    "%matplotlib inline"
   ]
  },
  {
   "cell_type": "code",
   "execution_count": 2,
   "metadata": {},
   "outputs": [],
   "source": [
    "plot_dir = \"../../plots/\"\n",
    "\n",
    "# Load in array\n",
    "logger = None\n",
    "hf = h5py.File('samples_and_results.h5', 'r')\n",
    "samples = hf['samples'][:]\n",
    "results = {}\n",
    "for key in hf.keys():\n",
    "    if key != 'samples':\n",
    "        results[key] = hf[key][:]\n",
    "hf.close()"
   ]
  },
  {
   "cell_type": "code",
   "execution_count": 3,
   "metadata": {},
   "outputs": [],
   "source": [
    "results['mneut1'] = onp.abs(results['mneut1'])\n",
    "\n",
    "# Plot arguments \n",
    "lower_limits = onp.array([[0.01, 74e-11, 122.0, 2 * 0.02275]])\n",
    "upper_limits = onp.array([[0.30, 428e-11, 128.0, 1.1]])\n",
    "limits = onp.stack([lower_limits, upper_limits]).squeeze()\n",
    "ranges = [\n",
    "    [-2000, 2000],\n",
    "    [-1000, 1000],\n",
    "    [-2000, 2000],\n",
    "    [400, 4000],\n",
    "    [100, 4000],\n",
    "    [100, 1000],\n",
    "    [100, 4000],\n",
    "    [100, 4000],\n",
    "    [100, 1000],\n",
    "    [100, 4000],\n",
    "    [400, 4000],\n",
    "    [1, 60],\n",
    "    [-4000, 4000],\n",
    "    [-4000, 4000],\n",
    "    [-4000, 4000],\n",
    "]\n",
    "labels = [\n",
    "    r\"$\\mu$\",\n",
    "    r\"$M_1$\",\n",
    "    r\"$M_2$\",\n",
    "    r\"$M_3$\",\n",
    "    r\"$M_{L_1}$\",\n",
    "    r\"$M_{L_2}$\",\n",
    "    r\"$M_{L_3}$\",\n",
    "    r\"$M_{r_1}$\",\n",
    "    r\"$M_{r_2}$\",\n",
    "    r\"$M_{r_3}$\",\n",
    "    # r\"$M_{Q_1}$\",\n",
    "    # r\"$M_{Q_2}$\",\n",
    "    # r\"$M_{Q_3}$\",\n",
    "    # r\"$M_{u_1}$\",\n",
    "    # r\"$M_{u_2}$\",\n",
    "    # r\"$M_{u_3}$\",\n",
    "    # r\"$M_{d_1}$\",\n",
    "    # r\"$M_{d_2}$\",\n",
    "    # r\"$M_{d_3}$\",\n",
    "    r\"$M_A$\",\n",
    "    r\"$\\tan\\beta$\",\n",
    "    r\"$A_t$\",\n",
    "    r\"$A_b$\",\n",
    "    r\"$A_{\\tau}$\",\n",
    "]\n",
    "levels = [0.6827, 0.9545, 0.9973]\n",
    "\n",
    "X_true = onp.array([[0.12, 251e-11, 125.0, 0.05]])\n",
    "X_sigma = onp.array([0.01, 59e-11, 1.0, 1e-5])"
   ]
  },
  {
   "cell_type": "code",
   "execution_count": 4,
   "metadata": {},
   "outputs": [],
   "source": [
    "filtered_unitful_samples, filtered_results = lp.filter_observables(\n",
    "    samples, results, limits\n",
    ")"
   ]
  },
  {
   "cell_type": "code",
   "execution_count": 28,
   "metadata": {},
   "outputs": [],
   "source": [
    "lp.plot_direct_detection_limits(results, filename=\"unfiltered_direct_detection.png\")\n",
    "lp.plot_direct_detection_limits(filtered_results, filename=\"direct_detection.png\")"
   ]
  },
  {
   "cell_type": "code",
   "execution_count": 26,
   "metadata": {},
   "outputs": [],
   "source": [
    "lp.plot_mass_splitting(results, filename=\"unfiltered_LHC_mass_splitting_constraints.png\")\n",
    "lp.plot_mass_splitting(filtered_results)\n"
   ]
  },
  {
   "cell_type": "markdown",
   "metadata": {},
   "source": []
  },
  {
   "cell_type": "code",
   "execution_count": 96,
   "metadata": {},
   "outputs": [
    {
     "name": "stderr",
     "output_type": "stream",
     "text": [
      "/var/folders/qd/09mj47cx551c65glw6y47d6r0000gn/T/ipykernel_53116/2077199098.py:3: MatplotlibDeprecationWarning: Auto-removal of overlapping axes is deprecated since 3.6 and will be removed two minor releases later; explicitly call ax.remove() as needed.\n",
      "  plt.subplot(3, 5, i+1)\n"
     ]
    },
    {
     "data": {
      "image/png": "[encoded data removed]",
      "text/plain": [
       "<Figure size 1000x600 with 15 Axes>"
      ]
     },
     "metadata": {},
     "output_type": "display_data"
    }
   ],
   "source": [
    "plt.subplots(figsize=(10, 6))\n",
    "for i,label in enumerate(labels):\n",
    "    plt.subplot(3, 5, i+1)\n",
    "    plt.hist(samples[:,i], color=\"darksalmon\", bins=10, density=True, range=ranges[i])\n",
    "    # plt.hist(filtered_unitful_samples[:,i], color=\"blue\", bins=10, density=True, alpha=0.5, range=ranges[i])\n",
    "    # plt.hist(filtered_unitful_samples[:,i])\n",
    "    if \"tan\" not in label:\n",
    "        plt.xlabel(label + \" (GeV)\")\n",
    "    else:\n",
    "        plt.xlabel(label)\n",
    "    plt.xlim(ranges[i])\n",
    "    ax = plt.gca()\n",
    "    ax.set_xticks(ax.get_xticks() + [0])\n",
    "    ax.spines['top'].set_visible(False)\n",
    "    ax.spines['right'].set_visible(False)\n",
    "    ax.spines['left'].set_visible(False)\n",
    "    ax.get_yaxis().set_visible(False)\n",
    "    # plt.box(False)\n",
    "plt.tight_layout()"
   ]
  },
  {
   "cell_type": "code",
   "execution_count": null,
   "metadata": {},
   "outputs": [],
   "source": []
  }
 ],
 "metadata": {
  "kernelspec": {
   "display_name": "Python 3.10.6",
   "language": "python",
   "name": "python3"
  },
  "language_info": {
   "codemirror_mode": {
    "name": "ipython",
    "version": 3
   },
   "file_extension": ".py",
   "mimetype": "text/x-python",
   "name": "python",
   "nbconvert_exporter": "python",
   "pygments_lexer": "ipython3",
   "version": "3.10.6"
  },
  "orig_nbformat": 4,
  "vscode": {
   "interpreter": {
    "hash": "51cbbc2feeda6ac20fcaf6d1e0d5c57945dcaa8779637195a57e0e80f4bc9bf0"
   }
  }
 },
 "nbformat": 4,
 "nbformat_minor": 2
}
