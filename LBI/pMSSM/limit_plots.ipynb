{
 "cells": [
  {
   "cell_type": "code",
   "execution_count": 1,
   "metadata": {},
   "outputs": [
    {
     "name": "stderr",
     "output_type": "stream",
     "text": [
      "/opt/homebrew/Caskroom/miniforge/base/envs/mssm/lib/python3.10/site-packages/tqdm/auto.py:22: TqdmWarning: IProgress not found. Please update jupyter and ipywidgets. See https://ipywidgets.readthedocs.io/en/stable/user_install.html\n",
      "  from .autonotebook import tqdm as notebook_tqdm\n"
     ]
    }
   ],
   "source": [
    "import jax\n",
    "import jax.numpy as np\n",
    "import numpy as onp\n",
    "from lbi.pipeline.base import pipeline\n",
    "from lbi.prior import SmoothedBoxPrior\n",
    "import h5py\n",
    "import limits_plots as lp\n",
    "import corner\n",
    "import matplotlib.pyplot as plt\n",
    "\n",
    "%load_ext autoreload\n",
    "%autoreload 2\n",
    "%matplotlib inline"
   ]
  },
  {
   "cell_type": "code",
   "execution_count": 2,
   "metadata": {},
   "outputs": [],
   "source": [
    "plot_dir = \"../../plots/\"\n",
    "\n",
    "# Load in array\n",
    "logger = None\n",
    "hf = h5py.File('samples_and_results_NRE.h5', 'r')\n",
    "samples = hf['samples'][:]\n",
    "results = {}\n",
    "for key in hf.keys():\n",
    "    if key != 'samples':\n",
    "        results[key] = hf[key][:]\n",
    "hf.close()"
   ]
  },
  {
   "cell_type": "code",
   "execution_count": 39,
   "metadata": {},
   "outputs": [],
   "source": [
    "plot_dir = \"../../plots/\"\n",
    "\n",
    "# Load in array\n",
    "logger = None\n",
    "hf = h5py.File('samples_and_results_SNRE5.h5', 'r')\n",
    "samplesSNRE5 = hf['samples'][:]\n",
    "resultsSNRE5 = {}\n",
    "for key in hf.keys():\n",
    "    if key != 'samples':\n",
    "        resultsSNRE5[key] = hf[key][:]\n",
    "hf.close()"
   ]
  },
  {
   "cell_type": "code",
   "execution_count": 3,
   "metadata": {},
   "outputs": [
    {
     "data": {
      "text/plain": [
       "DeviceArray(19266, dtype=int32)"
      ]
     },
     "execution_count": 3,
     "metadata": {},
     "output_type": "execute_result"
    }
   ],
   "source": [
    "np.count_nonzero(~np.isnan(results['mhsm']))"
   ]
  },
  {
   "cell_type": "code",
   "execution_count": 31,
   "metadata": {},
   "outputs": [
    {
     "name": "stdout",
     "output_type": "stream",
     "text": [
      "0.013131943\n",
      "0.4396346\n",
      "0.9993252\n",
      "0.41575834\n"
     ]
    }
   ],
   "source": [
    "print(np.sum((results['omega']  > lower_limits[0,0]) & (results['omega']  < upper_limits[0,0]))/np.count_nonzero(~np.isnan(results['omega'])))\n",
    "print(np.sum((results['gmuon']  > lower_limits[0,1]) & (results['gmuon']  < upper_limits[0,1]))/np.count_nonzero(~np.isnan(results['gmuon'])))\n",
    "print(np.sum((results['mhsm']  > lower_limits[0,2]) & (results['mhsm']  < upper_limits[0,2]))/np.count_nonzero(~np.isnan(results['mhsm'])))\n",
    "print(np.sum((results['pval_xenon1T']  > lower_limits[0,3]))/np.count_nonzero(~np.isnan(results['pval_xenon1T'])))\n",
    "\n"
   ]
  },
  {
   "cell_type": "code",
   "execution_count": 32,
   "metadata": {},
   "outputs": [
    {
     "name": "stdout",
     "output_type": "stream",
     "text": [
      "0.08519883\n",
      "0.27504605\n",
      "0.9794087\n",
      "0.18678568\n"
     ]
    }
   ],
   "source": [
    "print(np.sum((resultsSNRE5['omega']  > lower_limits[0,0]) & (resultsSNRE5['omega']  < upper_limits[0,0]))/np.count_nonzero(~np.isnan(resultsSNRE5['omega'])))\n",
    "print(np.sum((resultsSNRE5['gmuon']  > lower_limits[0,1]) & (resultsSNRE5['gmuon']  < upper_limits[0,1]))/np.count_nonzero(~np.isnan(resultsSNRE5['gmuon'])))\n",
    "print(np.sum((resultsSNRE5['mhsm']  > lower_limits[0,2]) & (resultsSNRE5['mhsm']  < upper_limits[0,2]))/np.count_nonzero(~np.isnan(resultsSNRE5['mhsm'])))\n",
    "print(np.sum((resultsSNRE5['pval_xenon1T']  > lower_limits[0,3]))/np.count_nonzero(~np.isnan(resultsSNRE5['pval_xenon1T'])))\n",
    "\n"
   ]
  },
  {
   "cell_type": "code",
   "execution_count": 33,
   "metadata": {},
   "outputs": [],
   "source": [
    "results['mneut1'] = onp.abs(results['mneut1'])\n",
    "\n",
    "# Plot arguments \n",
    "lower_limits = onp.array([[0.09, 74e-11, 122.0, 2 * 0.02275]])\n",
    "upper_limits = onp.array([[0.15, 428e-11, 128.0, 1.1]])\n",
    "# lower_limits = onp.array([[0.0, 1e-15, 122.0, 1e-10]])\n",
    "# upper_limits = onp.array([[1.10, 1.0, 128.0, 1.1]])\n",
    "limits = onp.stack([lower_limits, upper_limits]).squeeze()\n",
    "ranges = [\n",
    "    [-2000, 2000],\n",
    "    [-1000, 1000],\n",
    "    [-2000, 2000],\n",
    "    [400, 4000],\n",
    "    [100, 4000],\n",
    "    [100, 1000],\n",
    "    [100, 4000],\n",
    "    [100, 4000],\n",
    "    [100, 1000],\n",
    "    [100, 4000],\n",
    "    [400, 4000],\n",
    "    [1, 60],\n",
    "    [-4000, 4000],\n",
    "    [-4000, 4000],\n",
    "    [-4000, 4000],\n",
    "]\n",
    "labels = [\n",
    "    r\"$\\mu$\",\n",
    "    r\"$M_1$\",\n",
    "    r\"$M_2$\",\n",
    "    r\"$M_3$\",\n",
    "    r\"$M_{L_1}$\",\n",
    "    r\"$M_{L_2}$\",\n",
    "    r\"$M_{L_3}$\",\n",
    "    r\"$M_{r_1}$\",\n",
    "    r\"$M_{r_2}$\",\n",
    "    r\"$M_{r_3}$\",\n",
    "    # r\"$M_{Q_1}$\",\n",
    "    # r\"$M_{Q_2}$\",\n",
    "    # r\"$M_{Q_3}$\",\n",
    "    # r\"$M_{u_1}$\",\n",
    "    # r\"$M_{u_2}$\",\n",
    "    # r\"$M_{u_3}$\",\n",
    "    # r\"$M_{d_1}$\",\n",
    "    # r\"$M_{d_2}$\",\n",
    "    # r\"$M_{d_3}$\",\n",
    "    r\"$M_A$\",\n",
    "    r\"$\\tan\\beta$\",\n",
    "    r\"$A_t$\",\n",
    "    r\"$A_b$\",\n",
    "    r\"$A_{\\tau}$\",\n",
    "]\n",
    "levels = [0.6827, 0.9545, 0.9973]\n"
   ]
  },
  {
   "cell_type": "code",
   "execution_count": 42,
   "metadata": {},
   "outputs": [],
   "source": [
    "filtered_unitful_samples, filtered_results = lp.filter_observables(\n",
    "    samples, results, limits\n",
    ")\n",
    "\n",
    "filtered_unitful_samples_SNRE5, filtered_resultsSNRE5 = lp.filter_observables(\n",
    "    samplesSNRE5, resultsSNRE5, limits)"
   ]
  },
  {
   "cell_type": "code",
   "execution_count": 45,
   "metadata": {},
   "outputs": [
    {
     "data": {
      "text/plain": [
       "<Figure size 640x480 with 0 Axes>"
      ]
     },
     "metadata": {},
     "output_type": "display_data"
    }
   ],
   "source": [
    "lp.plot_direct_detection_limits(results, filename=\"unfiltered_direct_detection.png\")\n",
    "lp.plot_direct_detection_limits(filtered_results, filename=\"direct_detection.png\")\n",
    "\n",
    "lp.plot_direct_detection_limits(resultsSNRE5, filename=\"unfiltered_direct_detection_SNRE5.png\")\n",
    "lp.plot_direct_detection_limits(filtered_resultsSNRE5, filename=\"direct_detection_SNRE5.png\")"
   ]
  },
  {
   "cell_type": "code",
   "execution_count": 27,
   "metadata": {},
   "outputs": [
    {
     "data": {
      "text/plain": [
       "<Figure size 640x480 with 0 Axes>"
      ]
     },
     "metadata": {},
     "output_type": "display_data"
    }
   ],
   "source": [
    "lp.plot_mass_splitting(results, filename=\"unfiltered_LHC_mass_splitting_constraints.png\")\n",
    "lp.plot_mass_splitting(filtered_results)"
   ]
  },
  {
   "cell_type": "code",
   "execution_count": 28,
   "metadata": {},
   "outputs": [
    {
     "name": "stdout",
     "output_type": "stream",
     "text": [
      "0.003468858401825057\n"
     ]
    }
   ],
   "source": [
    "print(filtered_unitful_samples.shape[0]/samples.shape[0])"
   ]
  },
  {
   "cell_type": "code",
   "execution_count": 49,
   "metadata": {},
   "outputs": [
    {
     "name": "stderr",
     "output_type": "stream",
     "text": [
      "/var/folders/qd/09mj47cx551c65glw6y47d6r0000gn/T/ipykernel_27570/3953985481.py:3: MatplotlibDeprecationWarning: Auto-removal of overlapping axes is deprecated since 3.6 and will be removed two minor releases later; explicitly call ax.remove() as needed.\n",
      "  plt.subplot(3, 5, i+1)\n"
     ]
    },
    {
     "data": {
      "image/png": "[encoded data removed]",
      "text/plain": [
       "<Figure size 1000x600 with 15 Axes>"
      ]
     },
     "metadata": {},
     "output_type": "display_data"
    }
   ],
   "source": [
    "plt.subplots(figsize=(10, 6))\n",
    "for i,label in enumerate(labels):\n",
    "    plt.subplot(3, 5, i+1)\n",
    "    # plt.hist(samples[:,i], color=\"darksalmon\", bins=10, density=True, range=ranges[i])\n",
    "    plt.hist(filtered_unitful_samples[:,i], color=\"blue\", bins=10, density=True, alpha=0.5, range=ranges[i])\n",
    "    # plt.hist(filtered_unitful_samples[:,i])\n",
    "    if \"tan\" not in label:\n",
    "        plt.xlabel(label + \" (GeV)\")\n",
    "    else:\n",
    "        plt.xlabel(label)\n",
    "    plt.xlim(ranges[i])\n",
    "    ax = plt.gca()\n",
    "    ax.set_xticks(ax.get_xticks() + [0])\n",
    "    ax.spines['top'].set_visible(False)\n",
    "    ax.spines['right'].set_visible(False)\n",
    "    ax.spines['left'].set_visible(False)\n",
    "    ax.get_yaxis().set_visible(False)\n",
    "    # plt.box(False)\n",
    "plt.tight_layout()"
   ]
  },
  {
   "cell_type": "code",
   "execution_count": 48,
   "metadata": {},
   "outputs": [
    {
     "name": "stderr",
     "output_type": "stream",
     "text": [
      "/var/folders/qd/09mj47cx551c65glw6y47d6r0000gn/T/ipykernel_27570/169639845.py:3: MatplotlibDeprecationWarning: Auto-removal of overlapping axes is deprecated since 3.6 and will be removed two minor releases later; explicitly call ax.remove() as needed.\n",
      "  plt.subplot(3, 5, i+1)\n"
     ]
    },
    {
     "data": {
      "image/png": "[encoded data removed]",
      "text/plain": [
       "<Figure size 1000x600 with 15 Axes>"
      ]
     },
     "metadata": {},
     "output_type": "display_data"
    }
   ],
   "source": [
    "plt.subplots(figsize=(10, 6))\n",
    "for i,label in enumerate(labels):\n",
    "    plt.subplot(3, 5, i+1)\n",
    "    plt.hist(samplesSNRE5[:,i], color=\"darksalmon\", bins=10, density=True, range=ranges[i])\n",
    "    plt.hist(filtered_unitful_samples_SNRE5[:,i], color=\"blue\", bins=10, density=True, alpha=0.5, range=ranges[i])\n",
    "    # plt.hist(filtered_unitful_samples[:,i])\n",
    "    if \"tan\" not in label:\n",
    "        plt.xlabel(label + \" (GeV)\")\n",
    "    else:\n",
    "        plt.xlabel(label)\n",
    "    plt.xlim(ranges[i])\n",
    "    ax = plt.gca()\n",
    "    ax.set_xticks(ax.get_xticks() + [0])\n",
    "    ax.spines['top'].set_visible(False)\n",
    "    ax.spines['right'].set_visible(False)\n",
    "    ax.spines['left'].set_visible(False)\n",
    "    ax.get_yaxis().set_visible(False)\n",
    "    # plt.box(False)\n",
    "plt.tight_layout()"
   ]
  },
  {
   "cell_type": "markdown",
   "metadata": {},
   "source": []
  }
 ],
 "metadata": {
  "kernelspec": {
   "display_name": "Python 3.10.6",
   "language": "python",
   "name": "python3"
  },
  "language_info": {
   "codemirror_mode": {
    "name": "ipython",
    "version": 3
   },
   "file_extension": ".py",
   "mimetype": "text/x-python",
   "name": "python",
   "nbconvert_exporter": "python",
   "pygments_lexer": "ipython3",
   "version": "3.10.6"
  },
  "orig_nbformat": 4,
  "vscode": {
   "interpreter": {
    "hash": "51cbbc2feeda6ac20fcaf6d1e0d5c57945dcaa8779637195a57e0e80f4bc9bf0"
   }
  }
 },
 "nbformat": 4,
 "nbformat_minor": 2
}
