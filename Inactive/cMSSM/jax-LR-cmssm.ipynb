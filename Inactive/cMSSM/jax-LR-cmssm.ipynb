{
 "cells": [
  {
   "cell_type": "code",
   "execution_count": 1,
   "id": "4f331631-5d05-4077-9f28-1d6b53899785",
   "metadata": {},
   "outputs": [],
   "source": [
    "import numpy as onp\n",
    "import pandas as pd\n",
    "import torch\n",
    "import sklearn\n",
    "\n",
    "# visualization\n",
    "import seaborn\n",
    "import matplotlib as mpl\n",
    "import matplotlib.pyplot as plt\n",
    "import corner\n",
    "\n",
    "%load_ext autoreload\n",
    "%autoreload 2"
   ]
  },
  {
   "cell_type": "code",
   "execution_count": 2,
   "id": "04442529-d33e-42bb-bf81-6e4d0e2468d4",
   "metadata": {},
   "outputs": [],
   "source": [
    "from tqdm.auto import tqdm\n",
    "import itertools\n",
    "import numpy.random as npr\n",
    "import jax\n",
    "import optax \n"
   ]
  },
  {
   "cell_type": "code",
   "execution_count": 3,
   "id": "9d6b1b74-4ecf-46a0-92b5-476fb93f1749",
   "metadata": {},
   "outputs": [],
   "source": [
    "import matplotlib.pyplot as plt\n",
    "from sklearn import datasets, preprocessing\n",
    "from IPython.display import clear_output\n",
    "import jax.numpy as np\n",
    "\n",
    "import flows\n",
    "\n",
    "from jax import grad, jit, random\n",
    "from jax.experimental import stax, optimizers\n",
    "import numpyro"
   ]
  },
  {
   "cell_type": "code",
   "execution_count": 4,
   "id": "2a918bd7-032b-4620-836d-e60382c2e2bf",
   "metadata": {},
   "outputs": [],
   "source": [
    "rng, LR_rng = random.split(random.PRNGKey(0))\n",
    "\n",
    "\n",
    "def bce_w_logits(params, data, labels, average=True):\n",
    "    \"\"\"\n",
    "    Binary Cross Entropy Loss\n",
    "    Should be numerically stable, built based on: https://github.com/pytorch/pytorch/issues/751\n",
    "    :param data: Input tensor\n",
    "    :param labels: Target tensor\n",
    "    :param average: Boolean to average resulting loss vector\n",
    "    :return: Scalar value\n",
    "    \"\"\"\n",
    "    max_val = np.clip(x, 0, None)\n",
    "    loss = x - x * y + max_val + np.log(np.exp(-max_val) + np.exp((-x - max_val)))\n",
    "\n",
    "    if weight is not None:\n",
    "        loss = loss * weight\n",
    "\n",
    "    if average:\n",
    "        return loss.mean()\n",
    "    else:\n",
    "        return loss.sum()\n",
    "    \n",
    "def loss(params, batch):\n",
    "    data, labels = batch\n",
    "    return -bce_w_logits(params, data, labels)\n",
    "\n",
    "@jit\n",
    "def step(params, opt_state, batch):\n",
    "    nll, grads = jax.value_and_grad(loss)(params.fast, batch)\n",
    "    updates, opt_state = optimizer.update(grads, opt_state, params)\n",
    "    return nll, optax.apply_updates(params, updates), opt_state"
   ]
  },
  {
   "cell_type": "code",
   "execution_count": 5,
   "id": "13f7deb5-0020-4809-a5a9-596c7ddfc2a2",
   "metadata": {},
   "outputs": [],
   "source": [
    "\n",
    "def hmc(flow_params, obs, init_theta,\n",
    "        adapt_step_size=True,\n",
    "        adapt_mass_matrix=True,\n",
    "        dense_mass=True,\n",
    "        step_size=1e0,\n",
    "        max_tree_depth=12,\n",
    "        num_warmup=100,\n",
    "        num_samples=50,\n",
    "        num_chains=1,\n",
    "        seed=1234):\n",
    "    \n",
    "    def log_prior(theta):\n",
    "        \"\"\"unit gaussian about 0\n",
    "        \"\"\"\n",
    "        dim = theta.shape[-1]\n",
    "        return -0.5*(dim*np.log(2*np.pi) + np.log(1) + (theta)**2).sum()\n",
    "    \n",
    "    def posterior_wrapper(theta):\n",
    "        if len(theta.shape) == 1:\n",
    "            theta = theta[None, :]\n",
    "        inputs = np.hstack([obs, theta])\n",
    "        log_post = log_pdf(flow_params, inputs) # + log_prior(theta)\n",
    "        return -log_post[0]\n",
    "\n",
    "    hmc_key = random.PRNGKey(seed)\n",
    "    nuts_kernel = numpyro.infer.NUTS(potential_fn=posterior_wrapper, \n",
    "                                     adapt_step_size=adapt_step_size, \n",
    "                                     adapt_mass_matrix=adapt_mass_matrix,\n",
    "                                     dense_mass=dense_mass,\n",
    "                                     step_size=step_size, \n",
    "                                     max_tree_depth=max_tree_depth)\n",
    "    mcmc = numpyro.infer.MCMC(nuts_kernel, \n",
    "                              num_samples=num_samples, \n",
    "                              num_warmup=num_warmup, \n",
    "                              num_chains=num_chains)\n",
    "\n",
    "    #TODO: make sure x0 is being used in posterior (because it's not being used in run)\n",
    "    mcmc.run(hmc_key, init_params=init_theta)\n",
    "    return mcmc"
   ]
  },
  {
   "cell_type": "code",
   "execution_count": 6,
   "id": "2aea86cc-fd32-4c6b-abcc-043e49ea28bf",
   "metadata": {},
   "outputs": [
    {
     "name": "stderr",
     "output_type": "stream",
     "text": [
      "/media/jt/data/Projects/MSSM/datasets/Hollingsworth/read_dataset.py:36: SettingWithCopyWarning: \n",
      "A value is trying to be set on a copy of a slice from a DataFrame\n",
      "\n",
      "See the caveats in the documentation: https://pandas.pydata.org/pandas-docs/stable/user_guide/indexing.html#returning-a-view-versus-a-copy\n",
      "  f['chg2'][np.where(np.isnan(f['chg2']))[0]]=-1\n"
     ]
    }
   ],
   "source": [
    "import dataset\n",
    "import sklearn.preprocessing\n",
    "\n",
    "N = 1500000\n",
    "\n",
    "obs_mean, obs_std = dataset.obs.mean(dim=0), dataset.obs.std(dim=0)\n",
    "params_mean, params_std = dataset.params.mean(dim=0), dataset.params.std(dim=0)\n",
    "\n",
    "param_dim = dataset.params.shape[-1]\n",
    "obs_dim = dataset.obs.shape[-1]\n",
    "\n",
    "params = (dataset.params - params_mean)/params_std\n",
    "obs = (dataset.obs - obs_mean)/obs_std\n"
   ]
  },
  {
   "cell_type": "code",
   "execution_count": 7,
   "id": "34eedde7-20e4-4884-a0fb-e457a4b091ea",
   "metadata": {},
   "outputs": [
    {
     "data": {
      "text/html": [
       "<div>\n",
       "<style scoped>\n",
       "    .dataframe tbody tr th:only-of-type {\n",
       "        vertical-align: middle;\n",
       "    }\n",
       "\n",
       "    .dataframe tbody tr th {\n",
       "        vertical-align: top;\n",
       "    }\n",
       "\n",
       "    .dataframe thead th {\n",
       "        text-align: right;\n",
       "    }\n",
       "</style>\n",
       "<table border=\"1\" class=\"dataframe\">\n",
       "  <thead>\n",
       "    <tr style=\"text-align: right;\">\n",
       "      <th></th>\n",
       "      <th>0</th>\n",
       "      <th>1</th>\n",
       "      <th>2</th>\n",
       "      <th>3</th>\n",
       "      <th>4</th>\n",
       "      <th>5</th>\n",
       "    </tr>\n",
       "  </thead>\n",
       "  <tbody>\n",
       "    <tr>\n",
       "      <th>0</th>\n",
       "      <td>1.785297</td>\n",
       "      <td>0.075091</td>\n",
       "      <td>0.939147</td>\n",
       "      <td>-1.884812</td>\n",
       "      <td>0.691027</td>\n",
       "      <td>0.759124</td>\n",
       "    </tr>\n",
       "    <tr>\n",
       "      <th>1</th>\n",
       "      <td>-0.459451</td>\n",
       "      <td>0.131942</td>\n",
       "      <td>-0.748742</td>\n",
       "      <td>1.705266</td>\n",
       "      <td>0.770638</td>\n",
       "      <td>-0.543799</td>\n",
       "    </tr>\n",
       "    <tr>\n",
       "      <th>2</th>\n",
       "      <td>-1.230811</td>\n",
       "      <td>0.418187</td>\n",
       "      <td>1.139939</td>\n",
       "      <td>1.218724</td>\n",
       "      <td>0.747513</td>\n",
       "      <td>1.859668</td>\n",
       "    </tr>\n",
       "    <tr>\n",
       "      <th>3</th>\n",
       "      <td>1.213942</td>\n",
       "      <td>0.423448</td>\n",
       "      <td>1.633857</td>\n",
       "      <td>-0.320276</td>\n",
       "      <td>1.763390</td>\n",
       "      <td>1.040440</td>\n",
       "    </tr>\n",
       "    <tr>\n",
       "      <th>4</th>\n",
       "      <td>1.185564</td>\n",
       "      <td>-0.487451</td>\n",
       "      <td>1.317851</td>\n",
       "      <td>-0.897858</td>\n",
       "      <td>1.889171</td>\n",
       "      <td>-1.316012</td>\n",
       "    </tr>\n",
       "  </tbody>\n",
       "</table>\n",
       "</div>"
      ],
      "text/plain": [
       "          0         1         2         3         4         5\n",
       "0  1.785297  0.075091  0.939147 -1.884812  0.691027  0.759124\n",
       "1 -0.459451  0.131942 -0.748742  1.705266  0.770638 -0.543799\n",
       "2 -1.230811  0.418187  1.139939  1.218724  0.747513  1.859668\n",
       "3  1.213942  0.423448  1.633857 -0.320276  1.763390  1.040440\n",
       "4  1.185564 -0.487451  1.317851 -0.897858  1.889171 -1.316012"
      ]
     },
     "execution_count": 7,
     "metadata": {},
     "output_type": "execute_result"
    }
   ],
   "source": [
    "data = pd.DataFrame(np.hstack([obs[:N].numpy(), params[:N].numpy()]))\n",
    "data.head()"
   ]
  },
  {
   "cell_type": "code",
   "execution_count": 8,
   "id": "18a21442-0167-48f8-a132-92eeb3aadea3",
   "metadata": {},
   "outputs": [],
   "source": [
    "training_dataloader = torch.utils.data.DataLoader(torch.utils.data.TensorDataset(torch.tensor(data.values)), \n",
    "                                                  batch_size=128, \n",
    "                                                  shuffle=True)"
   ]
  },
  {
   "cell_type": "code",
   "execution_count": 37,
   "id": "5d0da980-3c15-4e12-90f4-b6e0abb47ad2",
   "metadata": {},
   "outputs": [],
   "source": [
    "init_random_params, predict = stax.serial(\n",
    "                                          Dense(1024), Relu,\n",
    "                                          Dense(1024), Relu,\n",
    "                                          Dense(10), \n",
    "                                          LogSoftmax)"
   ]
  },
  {
   "cell_type": "code",
   "execution_count": 38,
   "id": "c5fc2083-8423-4fea-8e52-5fe79153fa9d",
   "metadata": {},
   "outputs": [],
   "source": [
    "max_norm = 0.1\n",
    "learning_rate = 1e-4\n",
    "sync_period = 5\n",
    "slow_step_size = 0.5\n",
    "\n",
    "fast_optimizer = optax.chain(\n",
    "    # Set the parameters of AdamW. \n",
    "    optax.adamw(learning_rate=learning_rate, b1=0.9, b2=0.999, eps=1e-8),\n",
    "    optax.adaptive_grad_clip(max_norm),\n",
    ")\n",
    "optimizer = optax.lookahead(fast_optimizer, sync_period=sync_period, slow_step_size=slow_step_size)\n",
    "\n",
    "# The lookahead optimizer wrapper keeps a pair of slow and fast parameters. To\n",
    "# initialize them, we create a pair of synchronized parameters from the\n",
    "# initial model parameters. The first line below is only necessary for the\n",
    "# lookahead wrapper; without it the initial parameters could be used in the\n",
    "# initialization function of the optimizer directly.\n",
    "params = optax.LookaheadParams.init_synced(initial_params)\n",
    "opt_state = optimizer.init(params)\n",
    "losses = []\n",
    "results = []\n",
    "best_results = np.inf\n"
   ]
  },
  {
   "cell_type": "code",
   "execution_count": 39,
   "id": "38f38132-32f6-42f5-9a4e-d860aa64496a",
   "metadata": {},
   "outputs": [],
   "source": [
    "# create observation\n",
    "observation = torch.tensor([[0.12, 125.]])\n",
    "observation = (observation - obs_mean)/obs_std\n",
    "observation = observation.numpy()\n",
    "\n",
    "# find the most likely point in the training set to set initial params\n",
    "temp = data.copy()\n",
    "temp[[0, 1]] = observation"
   ]
  },
  {
   "cell_type": "code",
   "execution_count": null,
   "id": "d3b0a72b-0823-4686-979d-2dfbca085262",
   "metadata": {},
   "outputs": [
    {
     "data": {
      "application/vnd.jupyter.widget-view+json": {
       "model_id": "1442dc32f03145979c33b1528ed5c211",
       "version_major": 2,
       "version_minor": 0
      },
      "text/plain": [
       "  0%|          | 0/5000 [00:00<?, ?it/s]"
      ]
     },
     "metadata": {},
     "output_type": "display_data"
    }
   ],
   "source": [
    "num_steps = 5000\n",
    "batch_size = 128\n",
    "itercount = itertools.count()\n",
    "try:\n",
    "    for step_num in tqdm(range(num_steps)):\n",
    "        batch, = next(iter(training_dataloader))\n",
    "\n",
    "        nll, params, opt_state = step(params, opt_state, batch.numpy())\n",
    "        losses.append(nll)\n",
    "\n",
    "        # see how well the observations are recovered\n",
    "        if step_num % 500 == 0:\n",
    "            likelihoods = log_pdf(params.slow, temp.values)\n",
    "            res = data.iloc[np.argmax(likelihoods).item()].values[:obs_dim]\n",
    "            if sum(res) < best_results:\n",
    "                best_results = sum(res)\n",
    "                trained_params = params.slow.copy()\n",
    "            results.append((observation - res)/(observation + obs_mean.numpy()/obs_std.numpy()))\n",
    "except KeyboardInterrupt:\n",
    "    pass"
   ]
  },
  {
   "cell_type": "code",
   "execution_count": null,
   "id": "05906474-efce-4b28-b0ff-d71ce3ccc3ab",
   "metadata": {},
   "outputs": [],
   "source": [
    "plt.plot(losses)\n",
    "plt.yscale('log')\n",
    "plt.show()\n",
    "plt.plot(np.abs(np.vstack(results)))\n",
    "plt.yscale('log')"
   ]
  },
  {
   "cell_type": "code",
   "execution_count": null,
   "id": "36326e50-6928-44ea-afb5-6042e9f1d619",
   "metadata": {},
   "outputs": [],
   "source": [
    "likelihoods = log_pdf(trained_params, temp.values)\n",
    "\n",
    "plt.hist(likelihoods, bins='fd', range=(-20, likelihoods.max()));"
   ]
  },
  {
   "cell_type": "code",
   "execution_count": null,
   "id": "2fc5aa7f-4b6b-4e8b-82e6-85bef9c8ed94",
   "metadata": {},
   "outputs": [],
   "source": [
    "# find the most likely point in the training set to set initial params\n",
    "temp = data.copy()\n",
    "temp[[0, 1]] = observation\n",
    "likelihoods = log_pdf(trained_params, temp.values)\n",
    "\n",
    "# put together init_params\n",
    "num_chains = 1\n",
    "init_theta = data.iloc[np.argmax(likelihoods).item()].values[obs_dim:]\n",
    "init_theta = np.array([init_theta for _ in range(num_chains)])\n",
    "\n",
    "mcmc = hmc(flow_params=trained_params, \n",
    "           obs=observation*1.0, \n",
    "           init_theta=init_theta,\n",
    "           adapt_step_size=True,\n",
    "           adapt_mass_matrix=True,\n",
    "           dense_mass=True,\n",
    "           step_size=4e-2,\n",
    "           max_tree_depth=10,\n",
    "           num_warmup=1000,\n",
    "           num_samples=1000,\n",
    "           num_chains=num_chains,\n",
    "           seed=1234,\n",
    "          )"
   ]
  },
  {
   "cell_type": "code",
   "execution_count": null,
   "id": "29549de9-bee8-437d-a535-2a744edbab1b",
   "metadata": {},
   "outputs": [],
   "source": [
    "mcmc.print_summary()"
   ]
  },
  {
   "cell_type": "code",
   "execution_count": null,
   "id": "0ede72bd-79a1-444a-a0ea-410aabf094ac",
   "metadata": {},
   "outputs": [],
   "source": [
    "samples = mcmc.get_samples()\n",
    "samples = samples*params_std.numpy() + params_mean.numpy()\n",
    "# samples = (samples - dataset.params.min(axis=0).values.numpy())/(dataset.params.max(axis=0).values.numpy() - dataset.params.min(axis=0).values.numpy())"
   ]
  },
  {
   "cell_type": "code",
   "execution_count": null,
   "id": "7980a07f-fa20-4f4c-8f36-05c00f0f7fce",
   "metadata": {},
   "outputs": [],
   "source": [
    "Omega, delta_Omega = 0.12, 0.0012\n",
    "mh, delta_mh = 125., 2.\n",
    "\n",
    "mean = np.hstack([obs_mean, params_mean])\n",
    "std = np.hstack([obs_std, params_std])\n",
    "\n",
    "temp = data*std + mean\n",
    "\n",
    "correct_Omega_idx = (temp[0] <= Omega + delta_Omega*2) & (temp[0]  >= Omega - delta_Omega*2)\n",
    "correct_mh_idx = (temp[1] <= mh + delta_mh*2) & (temp[1] >= mh - delta_mh*2)\n",
    "\n",
    "\n",
    "correct_omega_cMSSM = temp[correct_Omega_idx]\n",
    "correct_mh_cMSSM = temp[correct_mh_idx]\n",
    "correct_combo_cMSSM = temp[correct_mh_idx & correct_Omega_idx]\n",
    "\n",
    "dset_samples = correct_combo_cMSSM.values[:, obs_dim:]\n",
    "# dset_samples = (dset_samples - dataset.params.min(axis=0).values.numpy())/(dataset.params.max(axis=0).values.numpy() - dataset.params.min(axis=0).values.numpy())\n",
    "\n",
    "\n",
    "param_cols = ['m0', 'm12', 'a0', 'tanb']\n",
    "fig = corner.corner(onp.array(samples), \n",
    "             labels=param_cols, \n",
    "#              range=[(0, 1) for i in range(4)],\n",
    "             title='valid cMSSM', \n",
    "             color='C1',\n",
    "             hist_kwargs={'color':'C1',\"density\":True});\n",
    "\n",
    "fig = corner.corner(dset_samples, \n",
    "             title='Correct Omega and mh', \n",
    "#              range=[[0, 1] for i in param_cols], \n",
    "                     \n",
    "             color='C0',\n",
    "                    hist_kwargs={'color':'C0',\"density\":True}, \n",
    "                    fig=fig,\n",
    "                   );\n"
   ]
  },
  {
   "cell_type": "code",
   "execution_count": 19,
   "id": "2f48ece4-6d33-4366-8da3-6a6d209001a9",
   "metadata": {},
   "outputs": [
    {
     "data": {
      "text/plain": [
       "((107, 4), torch.Size([866710, 4]))"
      ]
     },
     "execution_count": 19,
     "metadata": {},
     "output_type": "execute_result"
    }
   ],
   "source": [
    "dset_samples.shape, dataset.params.shape"
   ]
  },
  {
   "cell_type": "code",
   "execution_count": 20,
   "id": "7377f129-ea33-452c-9aa4-c993e13317d1",
   "metadata": {},
   "outputs": [
    {
     "data": {
      "text/plain": [
       "0.00018921344892275247"
      ]
     },
     "execution_count": 20,
     "metadata": {},
     "output_type": "execute_result"
    }
   ],
   "source": [
    "164/866746"
   ]
  },
  {
   "cell_type": "code",
   "execution_count": null,
   "id": "cdf903bf-3876-4d50-ba42-2eb343d451c1",
   "metadata": {},
   "outputs": [],
   "source": []
  }
 ],
 "metadata": {
  "kernelspec": {
   "display_name": "mssm",
   "language": "python",
   "name": "mssm"
  },
  "language_info": {
   "codemirror_mode": {
    "name": "ipython",
    "version": 3
   },
   "file_extension": ".py",
   "mimetype": "text/x-python",
   "name": "python",
   "nbconvert_exporter": "python",
   "pygments_lexer": "ipython3",
   "version": "3.8.5"
  }
 },
 "nbformat": 4,
 "nbformat_minor": 5
}
