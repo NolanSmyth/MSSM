{
 "cells": [
  {
   "cell_type": "code",
   "execution_count": 1,
   "metadata": {},
   "outputs": [],
   "source": [
    "import pandas as pd\n",
    "import numpy as np\n",
    "import glob\n",
    "import matplotlib.pyplot as plt\n",
    "\n",
    "data_dir = \"/media/jt/data/Projects/MSSM/data/Hollingsworth\"\n",
    "import sys\n",
    "sys.path.append(data_dir)\n",
    "from read_dataset import import_data"
   ]
  },
  {
   "cell_type": "code",
   "execution_count": 2,
   "metadata": {},
   "outputs": [
    {
     "name": "stderr",
     "output_type": "stream",
     "text": [
      "/media/jt/data/Projects/MSSM/data/Hollingsworth/read_dataset.py:36: SettingWithCopyWarning: \n",
      "A value is trying to be set on a copy of a slice from a DataFrame\n",
      "\n",
      "See the caveats in the documentation: https://pandas.pydata.org/pandas-docs/stable/user_guide/indexing.html#returning-a-view-versus-a-copy\n",
      "  f['chg2'][np.where(np.isnan(f['chg2']))[0]]=-1\n"
     ]
    }
   ],
   "source": [
    "\n",
    "# load and trim data\n",
    "dataset = \"cMSSM\"\n",
    "_df = import_data(os.path.join(data_dir, dataset), dataset.lower())\n",
    "_df = _df[_df[\"sgnmu\"] == 1]"
   ]
  },
  {
   "cell_type": "code",
   "execution_count": 3,
   "metadata": {},
   "outputs": [
    {
     "data": {
      "text/html": [
       "<div>\n",
       "<style scoped>\n",
       "    .dataframe tbody tr th:only-of-type {\n",
       "        vertical-align: middle;\n",
       "    }\n",
       "\n",
       "    .dataframe tbody tr th {\n",
       "        vertical-align: top;\n",
       "    }\n",
       "\n",
       "    .dataframe thead th {\n",
       "        text-align: right;\n",
       "    }\n",
       "</style>\n",
       "<table border=\"1\" class=\"dataframe\">\n",
       "  <thead>\n",
       "    <tr style=\"text-align: right;\">\n",
       "      <th></th>\n",
       "      <th>m0</th>\n",
       "      <th>m12</th>\n",
       "      <th>a0</th>\n",
       "      <th>tanb</th>\n",
       "      <th>omega</th>\n",
       "      <th>g2</th>\n",
       "      <th>mh</th>\n",
       "    </tr>\n",
       "  </thead>\n",
       "  <tbody>\n",
       "    <tr>\n",
       "      <th>1</th>\n",
       "      <td>9158.45</td>\n",
       "      <td>8913.25</td>\n",
       "      <td>-14770.200</td>\n",
       "      <td>40.66630</td>\n",
       "      <td>-1.00000</td>\n",
       "      <td>-1.000000e+00</td>\n",
       "      <td>-1.000</td>\n",
       "    </tr>\n",
       "    <tr>\n",
       "      <th>6</th>\n",
       "      <td>2444.81</td>\n",
       "      <td>5380.57</td>\n",
       "      <td>-5795.430</td>\n",
       "      <td>47.02380</td>\n",
       "      <td>0.08443</td>\n",
       "      <td>2.862790e-11</td>\n",
       "      <td>120.391</td>\n",
       "    </tr>\n",
       "    <tr>\n",
       "      <th>9</th>\n",
       "      <td>1009.03</td>\n",
       "      <td>2161.45</td>\n",
       "      <td>519.776</td>\n",
       "      <td>20.93200</td>\n",
       "      <td>10.77760</td>\n",
       "      <td>8.146990e-11</td>\n",
       "      <td>118.732</td>\n",
       "    </tr>\n",
       "    <tr>\n",
       "      <th>12</th>\n",
       "      <td>6485.62</td>\n",
       "      <td>5081.95</td>\n",
       "      <td>-25410.700</td>\n",
       "      <td>6.11012</td>\n",
       "      <td>-1.00000</td>\n",
       "      <td>-1.000000e+00</td>\n",
       "      <td>-1.000</td>\n",
       "    </tr>\n",
       "    <tr>\n",
       "      <th>13</th>\n",
       "      <td>7546.16</td>\n",
       "      <td>2196.69</td>\n",
       "      <td>14552.000</td>\n",
       "      <td>7.97283</td>\n",
       "      <td>419.30800</td>\n",
       "      <td>4.011840e-12</td>\n",
       "      <td>117.114</td>\n",
       "    </tr>\n",
       "    <tr>\n",
       "      <th>...</th>\n",
       "      <td>...</td>\n",
       "      <td>...</td>\n",
       "      <td>...</td>\n",
       "      <td>...</td>\n",
       "      <td>...</td>\n",
       "      <td>...</td>\n",
       "      <td>...</td>\n",
       "    </tr>\n",
       "    <tr>\n",
       "      <th>9988</th>\n",
       "      <td>7830.01</td>\n",
       "      <td>6750.77</td>\n",
       "      <td>25591.100</td>\n",
       "      <td>41.45520</td>\n",
       "      <td>-1.00000</td>\n",
       "      <td>-1.000000e+00</td>\n",
       "      <td>-1.000</td>\n",
       "    </tr>\n",
       "    <tr>\n",
       "      <th>9993</th>\n",
       "      <td>4608.31</td>\n",
       "      <td>8888.23</td>\n",
       "      <td>14400.300</td>\n",
       "      <td>43.82480</td>\n",
       "      <td>1.55813</td>\n",
       "      <td>1.188010e-11</td>\n",
       "      <td>118.733</td>\n",
       "    </tr>\n",
       "    <tr>\n",
       "      <th>9995</th>\n",
       "      <td>5672.19</td>\n",
       "      <td>6388.72</td>\n",
       "      <td>-26462.700</td>\n",
       "      <td>35.52670</td>\n",
       "      <td>-1.00000</td>\n",
       "      <td>-1.000000e+00</td>\n",
       "      <td>-1.000</td>\n",
       "    </tr>\n",
       "    <tr>\n",
       "      <th>9998</th>\n",
       "      <td>5898.04</td>\n",
       "      <td>2131.64</td>\n",
       "      <td>20318.900</td>\n",
       "      <td>49.49100</td>\n",
       "      <td>-1.00000</td>\n",
       "      <td>-1.000000e+00</td>\n",
       "      <td>-1.000</td>\n",
       "    </tr>\n",
       "    <tr>\n",
       "      <th>9999</th>\n",
       "      <td>7010.88</td>\n",
       "      <td>5499.39</td>\n",
       "      <td>25745.700</td>\n",
       "      <td>31.11490</td>\n",
       "      <td>191.46600</td>\n",
       "      <td>9.141090e-12</td>\n",
       "      <td>118.483</td>\n",
       "    </tr>\n",
       "  </tbody>\n",
       "</table>\n",
       "<p>1457814 rows × 7 columns</p>\n",
       "</div>"
      ],
      "text/plain": [
       "           m0      m12         a0      tanb      omega            g2       mh\n",
       "1     9158.45  8913.25 -14770.200  40.66630   -1.00000 -1.000000e+00   -1.000\n",
       "6     2444.81  5380.57  -5795.430  47.02380    0.08443  2.862790e-11  120.391\n",
       "9     1009.03  2161.45    519.776  20.93200   10.77760  8.146990e-11  118.732\n",
       "12    6485.62  5081.95 -25410.700   6.11012   -1.00000 -1.000000e+00   -1.000\n",
       "13    7546.16  2196.69  14552.000   7.97283  419.30800  4.011840e-12  117.114\n",
       "...       ...      ...        ...       ...        ...           ...      ...\n",
       "9988  7830.01  6750.77  25591.100  41.45520   -1.00000 -1.000000e+00   -1.000\n",
       "9993  4608.31  8888.23  14400.300  43.82480    1.55813  1.188010e-11  118.733\n",
       "9995  5672.19  6388.72 -26462.700  35.52670   -1.00000 -1.000000e+00   -1.000\n",
       "9998  5898.04  2131.64  20318.900  49.49100   -1.00000 -1.000000e+00   -1.000\n",
       "9999  7010.88  5499.39  25745.700  31.11490  191.46600  9.141090e-12  118.483\n",
       "\n",
       "[1457814 rows x 7 columns]"
      ]
     },
     "execution_count": 3,
     "metadata": {},
     "output_type": "execute_result"
    }
   ],
   "source": [
    "sugras = _df[['m0', 'm12', 'a0', 'tanb', 'omega', 'g2', 'mh']]\n",
    "sugras"
   ]
  },
  {
   "cell_type": "code",
   "execution_count": 43,
   "metadata": {},
   "outputs": [
    {
     "data": {
      "text/html": [
       "<div>\n",
       "<style scoped>\n",
       "    .dataframe tbody tr th:only-of-type {\n",
       "        vertical-align: middle;\n",
       "    }\n",
       "\n",
       "    .dataframe tbody tr th {\n",
       "        vertical-align: top;\n",
       "    }\n",
       "\n",
       "    .dataframe thead th {\n",
       "        text-align: right;\n",
       "    }\n",
       "</style>\n",
       "<table border=\"1\" class=\"dataframe\">\n",
       "  <thead>\n",
       "    <tr style=\"text-align: right;\">\n",
       "      <th></th>\n",
       "      <th>m0</th>\n",
       "      <th>m12</th>\n",
       "      <th>a0</th>\n",
       "      <th>tanb</th>\n",
       "      <th>omega</th>\n",
       "      <th>g2</th>\n",
       "      <th>mh</th>\n",
       "    </tr>\n",
       "  </thead>\n",
       "  <tbody>\n",
       "    <tr>\n",
       "      <th>0</th>\n",
       "      <td>9158.45</td>\n",
       "      <td>8913.250</td>\n",
       "      <td>-14770.200</td>\n",
       "      <td>40.66630</td>\n",
       "      <td>376.189061</td>\n",
       "      <td>5.406028e-12</td>\n",
       "      <td>129.983979</td>\n",
       "    </tr>\n",
       "    <tr>\n",
       "      <th>1</th>\n",
       "      <td>2444.81</td>\n",
       "      <td>5380.570</td>\n",
       "      <td>-5795.430</td>\n",
       "      <td>47.02380</td>\n",
       "      <td>0.055083</td>\n",
       "      <td>2.847589e-11</td>\n",
       "      <td>126.866368</td>\n",
       "    </tr>\n",
       "    <tr>\n",
       "      <th>2</th>\n",
       "      <td>1009.03</td>\n",
       "      <td>2161.450</td>\n",
       "      <td>519.776</td>\n",
       "      <td>20.93200</td>\n",
       "      <td>11.293449</td>\n",
       "      <td>7.785967e-11</td>\n",
       "      <td>122.984265</td>\n",
       "    </tr>\n",
       "    <tr>\n",
       "      <th>3</th>\n",
       "      <td>6485.62</td>\n",
       "      <td>5081.950</td>\n",
       "      <td>-25410.700</td>\n",
       "      <td>6.11012</td>\n",
       "      <td>-1.000000</td>\n",
       "      <td>-1.000000e+00</td>\n",
       "      <td>-1.000000</td>\n",
       "    </tr>\n",
       "    <tr>\n",
       "      <th>4</th>\n",
       "      <td>7546.16</td>\n",
       "      <td>2196.690</td>\n",
       "      <td>14552.000</td>\n",
       "      <td>7.97283</td>\n",
       "      <td>514.364999</td>\n",
       "      <td>3.507440e-12</td>\n",
       "      <td>121.973681</td>\n",
       "    </tr>\n",
       "    <tr>\n",
       "      <th>...</th>\n",
       "      <td>...</td>\n",
       "      <td>...</td>\n",
       "      <td>...</td>\n",
       "      <td>...</td>\n",
       "      <td>...</td>\n",
       "      <td>...</td>\n",
       "      <td>...</td>\n",
       "    </tr>\n",
       "    <tr>\n",
       "      <th>16379</th>\n",
       "      <td>3564.36</td>\n",
       "      <td>9950.560</td>\n",
       "      <td>11117.700</td>\n",
       "      <td>48.44110</td>\n",
       "      <td>1.110563</td>\n",
       "      <td>1.102769e-11</td>\n",
       "      <td>126.854326</td>\n",
       "    </tr>\n",
       "    <tr>\n",
       "      <th>16380</th>\n",
       "      <td>9852.33</td>\n",
       "      <td>676.213</td>\n",
       "      <td>57130.800</td>\n",
       "      <td>10.89030</td>\n",
       "      <td>-1.000000</td>\n",
       "      <td>-1.000000e+00</td>\n",
       "      <td>-1.000000</td>\n",
       "    </tr>\n",
       "    <tr>\n",
       "      <th>16381</th>\n",
       "      <td>7910.89</td>\n",
       "      <td>8236.740</td>\n",
       "      <td>-1831.700</td>\n",
       "      <td>2.69033</td>\n",
       "      <td>365.415184</td>\n",
       "      <td>3.960629e-13</td>\n",
       "      <td>116.162010</td>\n",
       "    </tr>\n",
       "    <tr>\n",
       "      <th>16382</th>\n",
       "      <td>7109.35</td>\n",
       "      <td>4041.130</td>\n",
       "      <td>-33699.600</td>\n",
       "      <td>29.65040</td>\n",
       "      <td>-1.000000</td>\n",
       "      <td>-1.000000e+00</td>\n",
       "      <td>-1.000000</td>\n",
       "    </tr>\n",
       "    <tr>\n",
       "      <th>16383</th>\n",
       "      <td>9060.94</td>\n",
       "      <td>112.604</td>\n",
       "      <td>54215.000</td>\n",
       "      <td>27.11440</td>\n",
       "      <td>-1.000000</td>\n",
       "      <td>-1.000000e+00</td>\n",
       "      <td>-1.000000</td>\n",
       "    </tr>\n",
       "  </tbody>\n",
       "</table>\n",
       "<p>16384 rows × 7 columns</p>\n",
       "</div>"
      ],
      "text/plain": [
       "            m0       m12         a0      tanb       omega            g2  \\\n",
       "0      9158.45  8913.250 -14770.200  40.66630  376.189061  5.406028e-12   \n",
       "1      2444.81  5380.570  -5795.430  47.02380    0.055083  2.847589e-11   \n",
       "2      1009.03  2161.450    519.776  20.93200   11.293449  7.785967e-11   \n",
       "3      6485.62  5081.950 -25410.700   6.11012   -1.000000 -1.000000e+00   \n",
       "4      7546.16  2196.690  14552.000   7.97283  514.364999  3.507440e-12   \n",
       "...        ...       ...        ...       ...         ...           ...   \n",
       "16379  3564.36  9950.560  11117.700  48.44110    1.110563  1.102769e-11   \n",
       "16380  9852.33   676.213  57130.800  10.89030   -1.000000 -1.000000e+00   \n",
       "16381  7910.89  8236.740  -1831.700   2.69033  365.415184  3.960629e-13   \n",
       "16382  7109.35  4041.130 -33699.600  29.65040   -1.000000 -1.000000e+00   \n",
       "16383  9060.94   112.604  54215.000  27.11440   -1.000000 -1.000000e+00   \n",
       "\n",
       "               mh  \n",
       "0      129.983979  \n",
       "1      126.866368  \n",
       "2      122.984265  \n",
       "3       -1.000000  \n",
       "4      121.973681  \n",
       "...           ...  \n",
       "16379  126.854326  \n",
       "16380   -1.000000  \n",
       "16381  116.162010  \n",
       "16382   -1.000000  \n",
       "16383   -1.000000  \n",
       "\n",
       "[16384 rows x 7 columns]"
      ]
     },
     "execution_count": 43,
     "metadata": {},
     "output_type": "execute_result"
    }
   ],
   "source": [
    "scan_data_dir = 'softsusy_scan_results'\n",
    "scan_csv_files = glob.glob(scan_data_dir + '/*.csv')\n",
    "sugras = pd.concat([pd.read_csv(csv).fillna(-1) for csv in scan_csv_files], ignore_index=True)\n",
    "sugras = sugras[['m0', 'm12', 'a0', 'tanb', 'omega', 'gmuon', 'mhsm']]\n",
    "sugras = sugras.rename({\"gmuon\": \"g2\", \"mhsm\": \"mh\"}, axis=1, errors=\"raise\")\n",
    "sugras"
   ]
  },
  {
   "cell_type": "code",
   "execution_count": 44,
   "metadata": {},
   "outputs": [],
   "source": [
    "scan_data_dir = 'spheno_scan_results'\n",
    "scan_csv_files = glob.glob(scan_data_dir + '/*.csv')"
   ]
  },
  {
   "cell_type": "code",
   "execution_count": 45,
   "metadata": {},
   "outputs": [
    {
     "data": {
      "text/html": [
       "<div>\n",
       "<style scoped>\n",
       "    .dataframe tbody tr th:only-of-type {\n",
       "        vertical-align: middle;\n",
       "    }\n",
       "\n",
       "    .dataframe tbody tr th {\n",
       "        vertical-align: top;\n",
       "    }\n",
       "\n",
       "    .dataframe thead th {\n",
       "        text-align: right;\n",
       "    }\n",
       "</style>\n",
       "<table border=\"1\" class=\"dataframe\">\n",
       "  <thead>\n",
       "    <tr style=\"text-align: right;\">\n",
       "      <th></th>\n",
       "      <th>m0</th>\n",
       "      <th>m12</th>\n",
       "      <th>a0</th>\n",
       "      <th>tanb</th>\n",
       "      <th>omega</th>\n",
       "      <th>gmuon</th>\n",
       "      <th>mhsm</th>\n",
       "    </tr>\n",
       "  </thead>\n",
       "  <tbody>\n",
       "    <tr>\n",
       "      <th>0</th>\n",
       "      <td>9158.45</td>\n",
       "      <td>8913.250</td>\n",
       "      <td>-14770.200</td>\n",
       "      <td>40.66630</td>\n",
       "      <td>385.821448</td>\n",
       "      <td>5.545784e-12</td>\n",
       "      <td>128.802394</td>\n",
       "    </tr>\n",
       "    <tr>\n",
       "      <th>1</th>\n",
       "      <td>2444.81</td>\n",
       "      <td>5380.570</td>\n",
       "      <td>-5795.430</td>\n",
       "      <td>47.02380</td>\n",
       "      <td>0.185550</td>\n",
       "      <td>2.893842e-11</td>\n",
       "      <td>126.651092</td>\n",
       "    </tr>\n",
       "    <tr>\n",
       "      <th>2</th>\n",
       "      <td>1009.03</td>\n",
       "      <td>2161.450</td>\n",
       "      <td>519.776</td>\n",
       "      <td>20.93200</td>\n",
       "      <td>11.247979</td>\n",
       "      <td>7.955484e-11</td>\n",
       "      <td>122.002653</td>\n",
       "    </tr>\n",
       "    <tr>\n",
       "      <th>3</th>\n",
       "      <td>6485.62</td>\n",
       "      <td>5081.950</td>\n",
       "      <td>-25410.700</td>\n",
       "      <td>6.11012</td>\n",
       "      <td>-1.000000</td>\n",
       "      <td>-1.000000e+00</td>\n",
       "      <td>-1.000000</td>\n",
       "    </tr>\n",
       "    <tr>\n",
       "      <th>4</th>\n",
       "      <td>7546.16</td>\n",
       "      <td>2196.690</td>\n",
       "      <td>14552.000</td>\n",
       "      <td>7.97283</td>\n",
       "      <td>494.149222</td>\n",
       "      <td>3.548841e-12</td>\n",
       "      <td>120.727669</td>\n",
       "    </tr>\n",
       "    <tr>\n",
       "      <th>...</th>\n",
       "      <td>...</td>\n",
       "      <td>...</td>\n",
       "      <td>...</td>\n",
       "      <td>...</td>\n",
       "      <td>...</td>\n",
       "      <td>...</td>\n",
       "      <td>...</td>\n",
       "    </tr>\n",
       "    <tr>\n",
       "      <th>16379</th>\n",
       "      <td>3564.36</td>\n",
       "      <td>9950.560</td>\n",
       "      <td>11117.700</td>\n",
       "      <td>48.44110</td>\n",
       "      <td>1.652780</td>\n",
       "      <td>1.058410e-11</td>\n",
       "      <td>126.322433</td>\n",
       "    </tr>\n",
       "    <tr>\n",
       "      <th>16380</th>\n",
       "      <td>9852.33</td>\n",
       "      <td>676.213</td>\n",
       "      <td>57130.800</td>\n",
       "      <td>10.89030</td>\n",
       "      <td>-1.000000</td>\n",
       "      <td>-1.000000e+00</td>\n",
       "      <td>-1.000000</td>\n",
       "    </tr>\n",
       "    <tr>\n",
       "      <th>16381</th>\n",
       "      <td>7910.89</td>\n",
       "      <td>8236.740</td>\n",
       "      <td>-1831.700</td>\n",
       "      <td>2.69033</td>\n",
       "      <td>360.238017</td>\n",
       "      <td>4.092887e-13</td>\n",
       "      <td>114.512374</td>\n",
       "    </tr>\n",
       "    <tr>\n",
       "      <th>16382</th>\n",
       "      <td>7109.35</td>\n",
       "      <td>4041.130</td>\n",
       "      <td>-33699.600</td>\n",
       "      <td>29.65040</td>\n",
       "      <td>-1.000000</td>\n",
       "      <td>-1.000000e+00</td>\n",
       "      <td>-1.000000</td>\n",
       "    </tr>\n",
       "    <tr>\n",
       "      <th>16383</th>\n",
       "      <td>9060.94</td>\n",
       "      <td>112.604</td>\n",
       "      <td>54215.000</td>\n",
       "      <td>27.11440</td>\n",
       "      <td>-1.000000</td>\n",
       "      <td>-1.000000e+00</td>\n",
       "      <td>-1.000000</td>\n",
       "    </tr>\n",
       "  </tbody>\n",
       "</table>\n",
       "<p>16384 rows × 7 columns</p>\n",
       "</div>"
      ],
      "text/plain": [
       "            m0       m12         a0      tanb       omega         gmuon  \\\n",
       "0      9158.45  8913.250 -14770.200  40.66630  385.821448  5.545784e-12   \n",
       "1      2444.81  5380.570  -5795.430  47.02380    0.185550  2.893842e-11   \n",
       "2      1009.03  2161.450    519.776  20.93200   11.247979  7.955484e-11   \n",
       "3      6485.62  5081.950 -25410.700   6.11012   -1.000000 -1.000000e+00   \n",
       "4      7546.16  2196.690  14552.000   7.97283  494.149222  3.548841e-12   \n",
       "...        ...       ...        ...       ...         ...           ...   \n",
       "16379  3564.36  9950.560  11117.700  48.44110    1.652780  1.058410e-11   \n",
       "16380  9852.33   676.213  57130.800  10.89030   -1.000000 -1.000000e+00   \n",
       "16381  7910.89  8236.740  -1831.700   2.69033  360.238017  4.092887e-13   \n",
       "16382  7109.35  4041.130 -33699.600  29.65040   -1.000000 -1.000000e+00   \n",
       "16383  9060.94   112.604  54215.000  27.11440   -1.000000 -1.000000e+00   \n",
       "\n",
       "             mhsm  \n",
       "0      128.802394  \n",
       "1      126.651092  \n",
       "2      122.002653  \n",
       "3       -1.000000  \n",
       "4      120.727669  \n",
       "...           ...  \n",
       "16379  126.322433  \n",
       "16380   -1.000000  \n",
       "16381  114.512374  \n",
       "16382   -1.000000  \n",
       "16383   -1.000000  \n",
       "\n",
       "[16384 rows x 7 columns]"
      ]
     },
     "execution_count": 45,
     "metadata": {},
     "output_type": "execute_result"
    }
   ],
   "source": [
    "df = pd.concat([pd.read_csv(csv).fillna(-1) for csv in scan_csv_files], ignore_index=True)\n",
    "df = df[['m0', 'm12', 'a0', 'tanb', 'omega', 'gmuon', 'mhsm']]\n",
    "df"
   ]
  },
  {
   "cell_type": "code",
   "execution_count": 46,
   "metadata": {},
   "outputs": [],
   "source": [
    "combo_df = pd.merge(df, sugras, how='inner', on=['m0', 'm12', 'a0', 'tanb'])\n",
    "no_nan_combo_df = combo_df[(combo_df != -1).all(1)]"
   ]
  },
  {
   "cell_type": "code",
   "execution_count": 47,
   "metadata": {},
   "outputs": [
    {
     "data": {
      "text/html": [
       "<div>\n",
       "<style scoped>\n",
       "    .dataframe tbody tr th:only-of-type {\n",
       "        vertical-align: middle;\n",
       "    }\n",
       "\n",
       "    .dataframe tbody tr th {\n",
       "        vertical-align: top;\n",
       "    }\n",
       "\n",
       "    .dataframe thead th {\n",
       "        text-align: right;\n",
       "    }\n",
       "</style>\n",
       "<table border=\"1\" class=\"dataframe\">\n",
       "  <thead>\n",
       "    <tr style=\"text-align: right;\">\n",
       "      <th></th>\n",
       "      <th>m0</th>\n",
       "      <th>m12</th>\n",
       "      <th>a0</th>\n",
       "      <th>tanb</th>\n",
       "      <th>omega_x</th>\n",
       "      <th>gmuon</th>\n",
       "      <th>mhsm</th>\n",
       "      <th>omega_y</th>\n",
       "      <th>g2</th>\n",
       "      <th>mh</th>\n",
       "    </tr>\n",
       "  </thead>\n",
       "  <tbody>\n",
       "    <tr>\n",
       "      <th>0</th>\n",
       "      <td>9158.4500</td>\n",
       "      <td>8913.25</td>\n",
       "      <td>-14770.200</td>\n",
       "      <td>40.66630</td>\n",
       "      <td>385.821448</td>\n",
       "      <td>5.545784e-12</td>\n",
       "      <td>128.802394</td>\n",
       "      <td>376.189061</td>\n",
       "      <td>5.406028e-12</td>\n",
       "      <td>129.983979</td>\n",
       "    </tr>\n",
       "    <tr>\n",
       "      <th>1</th>\n",
       "      <td>2444.8100</td>\n",
       "      <td>5380.57</td>\n",
       "      <td>-5795.430</td>\n",
       "      <td>47.02380</td>\n",
       "      <td>0.185550</td>\n",
       "      <td>2.893842e-11</td>\n",
       "      <td>126.651092</td>\n",
       "      <td>0.055083</td>\n",
       "      <td>2.847589e-11</td>\n",
       "      <td>126.866368</td>\n",
       "    </tr>\n",
       "    <tr>\n",
       "      <th>2</th>\n",
       "      <td>1009.0300</td>\n",
       "      <td>2161.45</td>\n",
       "      <td>519.776</td>\n",
       "      <td>20.93200</td>\n",
       "      <td>11.247979</td>\n",
       "      <td>7.955484e-11</td>\n",
       "      <td>122.002653</td>\n",
       "      <td>11.293449</td>\n",
       "      <td>7.785967e-11</td>\n",
       "      <td>122.984265</td>\n",
       "    </tr>\n",
       "    <tr>\n",
       "      <th>4</th>\n",
       "      <td>7546.1600</td>\n",
       "      <td>2196.69</td>\n",
       "      <td>14552.000</td>\n",
       "      <td>7.97283</td>\n",
       "      <td>494.149222</td>\n",
       "      <td>3.548841e-12</td>\n",
       "      <td>120.727669</td>\n",
       "      <td>514.364999</td>\n",
       "      <td>3.507440e-12</td>\n",
       "      <td>121.973681</td>\n",
       "    </tr>\n",
       "    <tr>\n",
       "      <th>6</th>\n",
       "      <td>66.8668</td>\n",
       "      <td>780.51</td>\n",
       "      <td>-203.682</td>\n",
       "      <td>31.83880</td>\n",
       "      <td>0.007289</td>\n",
       "      <td>1.271280e-09</td>\n",
       "      <td>118.032189</td>\n",
       "      <td>0.005510</td>\n",
       "      <td>1.271263e-09</td>\n",
       "      <td>118.513692</td>\n",
       "    </tr>\n",
       "    <tr>\n",
       "      <th>...</th>\n",
       "      <td>...</td>\n",
       "      <td>...</td>\n",
       "      <td>...</td>\n",
       "      <td>...</td>\n",
       "      <td>...</td>\n",
       "      <td>...</td>\n",
       "      <td>...</td>\n",
       "      <td>...</td>\n",
       "      <td>...</td>\n",
       "      <td>...</td>\n",
       "    </tr>\n",
       "    <tr>\n",
       "      <th>16374</th>\n",
       "      <td>1017.7500</td>\n",
       "      <td>6903.78</td>\n",
       "      <td>3110.630</td>\n",
       "      <td>24.66050</td>\n",
       "      <td>1.566003</td>\n",
       "      <td>1.184615e-11</td>\n",
       "      <td>125.749268</td>\n",
       "      <td>1.540361</td>\n",
       "      <td>1.061773e-11</td>\n",
       "      <td>126.849247</td>\n",
       "    </tr>\n",
       "    <tr>\n",
       "      <th>16375</th>\n",
       "      <td>1307.2100</td>\n",
       "      <td>2017.08</td>\n",
       "      <td>-674.672</td>\n",
       "      <td>14.51820</td>\n",
       "      <td>15.289746</td>\n",
       "      <td>5.284830e-11</td>\n",
       "      <td>122.188418</td>\n",
       "      <td>15.343769</td>\n",
       "      <td>5.202147e-11</td>\n",
       "      <td>123.257090</td>\n",
       "    </tr>\n",
       "    <tr>\n",
       "      <th>16378</th>\n",
       "      <td>8812.4200</td>\n",
       "      <td>9815.96</td>\n",
       "      <td>-30099.200</td>\n",
       "      <td>7.81207</td>\n",
       "      <td>428.659702</td>\n",
       "      <td>8.390688e-13</td>\n",
       "      <td>127.963973</td>\n",
       "      <td>431.149439</td>\n",
       "      <td>8.356844e-13</td>\n",
       "      <td>130.307153</td>\n",
       "    </tr>\n",
       "    <tr>\n",
       "      <th>16379</th>\n",
       "      <td>3564.3600</td>\n",
       "      <td>9950.56</td>\n",
       "      <td>11117.700</td>\n",
       "      <td>48.44110</td>\n",
       "      <td>1.652780</td>\n",
       "      <td>1.058410e-11</td>\n",
       "      <td>126.322433</td>\n",
       "      <td>1.110563</td>\n",
       "      <td>1.102769e-11</td>\n",
       "      <td>126.854326</td>\n",
       "    </tr>\n",
       "    <tr>\n",
       "      <th>16381</th>\n",
       "      <td>7910.8900</td>\n",
       "      <td>8236.74</td>\n",
       "      <td>-1831.700</td>\n",
       "      <td>2.69033</td>\n",
       "      <td>360.238017</td>\n",
       "      <td>4.092887e-13</td>\n",
       "      <td>114.512374</td>\n",
       "      <td>365.415184</td>\n",
       "      <td>3.960629e-13</td>\n",
       "      <td>116.162010</td>\n",
       "    </tr>\n",
       "  </tbody>\n",
       "</table>\n",
       "<p>10745 rows × 10 columns</p>\n",
       "</div>"
      ],
      "text/plain": [
       "              m0      m12         a0      tanb     omega_x         gmuon  \\\n",
       "0      9158.4500  8913.25 -14770.200  40.66630  385.821448  5.545784e-12   \n",
       "1      2444.8100  5380.57  -5795.430  47.02380    0.185550  2.893842e-11   \n",
       "2      1009.0300  2161.45    519.776  20.93200   11.247979  7.955484e-11   \n",
       "4      7546.1600  2196.69  14552.000   7.97283  494.149222  3.548841e-12   \n",
       "6        66.8668   780.51   -203.682  31.83880    0.007289  1.271280e-09   \n",
       "...          ...      ...        ...       ...         ...           ...   \n",
       "16374  1017.7500  6903.78   3110.630  24.66050    1.566003  1.184615e-11   \n",
       "16375  1307.2100  2017.08   -674.672  14.51820   15.289746  5.284830e-11   \n",
       "16378  8812.4200  9815.96 -30099.200   7.81207  428.659702  8.390688e-13   \n",
       "16379  3564.3600  9950.56  11117.700  48.44110    1.652780  1.058410e-11   \n",
       "16381  7910.8900  8236.74  -1831.700   2.69033  360.238017  4.092887e-13   \n",
       "\n",
       "             mhsm     omega_y            g2          mh  \n",
       "0      128.802394  376.189061  5.406028e-12  129.983979  \n",
       "1      126.651092    0.055083  2.847589e-11  126.866368  \n",
       "2      122.002653   11.293449  7.785967e-11  122.984265  \n",
       "4      120.727669  514.364999  3.507440e-12  121.973681  \n",
       "6      118.032189    0.005510  1.271263e-09  118.513692  \n",
       "...           ...         ...           ...         ...  \n",
       "16374  125.749268    1.540361  1.061773e-11  126.849247  \n",
       "16375  122.188418   15.343769  5.202147e-11  123.257090  \n",
       "16378  127.963973  431.149439  8.356844e-13  130.307153  \n",
       "16379  126.322433    1.110563  1.102769e-11  126.854326  \n",
       "16381  114.512374  365.415184  3.960629e-13  116.162010  \n",
       "\n",
       "[10745 rows x 10 columns]"
      ]
     },
     "execution_count": 47,
     "metadata": {},
     "output_type": "execute_result"
    }
   ],
   "source": [
    "no_nan_combo_df"
   ]
  },
  {
   "cell_type": "markdown",
   "metadata": {},
   "source": [
    "# Omega residuals"
   ]
  },
  {
   "cell_type": "code",
   "execution_count": 48,
   "metadata": {},
   "outputs": [
    {
     "name": "stdout",
     "output_type": "stream",
     "text": [
      "Median Abs Dev Log: 0.011549195503446163\n"
     ]
    },
    {
     "data": {
      "image/png": "[encoded data removed]",
      "text/plain": [
       "<Figure size 432x288 with 1 Axes>"
      ]
     },
     "metadata": {
      "needs_background": "light"
     },
     "output_type": "display_data"
    },
    {
     "name": "stdout",
     "output_type": "stream",
     "text": [
      "Median Abs Pct Error: 0.0334970166696369\n"
     ]
    },
    {
     "data": {
      "image/png": "[encoded data removed]",
      "text/plain": [
       "<Figure size 432x288 with 1 Axes>"
      ]
     },
     "metadata": {
      "needs_background": "light"
     },
     "output_type": "display_data"
    }
   ],
   "source": [
    "\n",
    "omega_residuals = (\n",
    "    np.log10(np.abs(no_nan_combo_df[\"omega_x\"])) - np.log10(np.abs(no_nan_combo_df[\"omega_y\"]))\n",
    ") / np.log10(np.abs(no_nan_combo_df[\"omega_x\"]))\n",
    "omega_residuals = np.abs(omega_residuals)\n",
    "plt.hist(omega_residuals, bins=45, range=(0, 1), density=True)\n",
    "print(f\"Median Abs Dev Log: {omega_residuals.median()}\")\n",
    "plt.show()\n",
    "\n",
    "omega_residuals = (no_nan_combo_df[\"omega_x\"] - no_nan_combo_df[\"omega_y\"]) / no_nan_combo_df[\"omega_x\"]\n",
    "plt.hist(omega_residuals, range=(-0.1, 0.1), bins=45, density=True)\n",
    "print(f\"Median Abs Pct Error: {omega_residuals.abs().median()}\")\n",
    "plt.show()\n"
   ]
  },
  {
   "cell_type": "markdown",
   "metadata": {},
   "source": [
    "# g-2 residuals"
   ]
  },
  {
   "cell_type": "code",
   "execution_count": 49,
   "metadata": {},
   "outputs": [
    {
     "name": "stdout",
     "output_type": "stream",
     "text": [
      "Median Abs Dev Log: 0.0009284332400819176\n"
     ]
    },
    {
     "data": {
      "image/png": "[encoded data removed]",
      "text/plain": [
       "<Figure size 432x288 with 1 Axes>"
      ]
     },
     "metadata": {
      "needs_background": "light"
     },
     "output_type": "display_data"
    },
    {
     "name": "stdout",
     "output_type": "stream",
     "text": [
      "Median Abs Pct Error: 0.023719479093893155\n"
     ]
    },
    {
     "data": {
      "image/png": "[encoded data removed]",
      "text/plain": [
       "<Figure size 432x288 with 1 Axes>"
      ]
     },
     "metadata": {
      "needs_background": "light"
     },
     "output_type": "display_data"
    }
   ],
   "source": [
    "gmuon_residuals = (\n",
    "    np.log10(np.abs(no_nan_combo_df[\"g2\"])) - np.log10(np.abs(no_nan_combo_df[\"gmuon\"]))\n",
    ") / np.log10(np.abs(no_nan_combo_df[\"g2\"]))\n",
    "gmuon_residuals = np.abs(gmuon_residuals)\n",
    "plt.hist(gmuon_residuals, bins=45, range=(0, 0.020), density=True)\n",
    "print(f\"Median Abs Dev Log: {gmuon_residuals.median()}\")\n",
    "plt.show()\n",
    "\n",
    "gmuon_residuals = (no_nan_combo_df[\"g2\"] - no_nan_combo_df[\"gmuon\"]) / no_nan_combo_df[\"g2\"]\n",
    "plt.hist(gmuon_residuals, range=(-0.2, 0.42), bins=45, density=True)\n",
    "print(f\"Median Abs Pct Error: {gmuon_residuals.abs().median()}\")\n",
    "plt.show()\n"
   ]
  },
  {
   "cell_type": "markdown",
   "metadata": {},
   "source": [
    "# Higgs mass residuals"
   ]
  },
  {
   "cell_type": "code",
   "execution_count": 50,
   "metadata": {},
   "outputs": [
    {
     "name": "stdout",
     "output_type": "stream",
     "text": [
      "Median Abs Dev Log: 0.0018370837341447816\n"
     ]
    },
    {
     "data": {
      "image/png": "[encoded data removed]",
      "text/plain": [
       "<Figure size 432x288 with 1 Axes>"
      ]
     },
     "metadata": {
      "needs_background": "light"
     },
     "output_type": "display_data"
    },
    {
     "name": "stdout",
     "output_type": "stream",
     "text": [
      "Median Abs Pct Error: 0.008836475804141522\n"
     ]
    },
    {
     "data": {
      "image/png": "[encoded data removed]",
      "text/plain": [
       "<Figure size 432x288 with 1 Axes>"
      ]
     },
     "metadata": {
      "needs_background": "light"
     },
     "output_type": "display_data"
    }
   ],
   "source": [
    "mh_residuals = (\n",
    "    np.log10(np.abs(no_nan_combo_df[\"mh\"])) - np.log10(np.abs(no_nan_combo_df[\"mhsm\"]))\n",
    ") / np.log10(np.abs(no_nan_combo_df[\"mh\"]))\n",
    "mh_residuals = np.abs(mh_residuals)\n",
    "plt.hist(mh_residuals, bins=45, range=(0, 0.03), density=True)\n",
    "print(f\"Median Abs Dev Log: {mh_residuals.median()}\")\n",
    "plt.show()\n",
    "\n",
    "mh_residuals = (no_nan_combo_df['mh'] - no_nan_combo_df['mhsm'])/no_nan_combo_df['mh']\n",
    "plt.hist(mh_residuals, range=(-0.1, 0.1), bins=45, density=True)\n",
    "print(f\"Median Abs Pct Error: {mh_residuals.abs().median()}\")\n",
    "plt.show()"
   ]
  },
  {
   "cell_type": "code",
   "execution_count": 51,
   "metadata": {},
   "outputs": [],
   "source": [
    "import corner"
   ]
  },
  {
   "cell_type": "code",
   "execution_count": 52,
   "metadata": {},
   "outputs": [
    {
     "name": "stderr",
     "output_type": "stream",
     "text": [
      "WARNING:root:Pandas support in corner is deprecated; use ArviZ directly\n"
     ]
    },
    {
     "data": {
      "image/png": "[encoded data removed]",
      "text/plain": [
       "<Figure size 547.2x547.2 with 9 Axes>"
      ]
     },
     "metadata": {
      "needs_background": "light"
     },
     "output_type": "display_data"
    }
   ],
   "source": [
    "corner.corner(no_nan_combo_df[['omega_x', 'mh', 'g2']], \n",
    "              range=((0, 2), (100, 135), (1e-14, 1e-10)),\n",
    "              )\n",
    "plt.show()"
   ]
  },
  {
   "cell_type": "code",
   "execution_count": 53,
   "metadata": {},
   "outputs": [
    {
     "name": "stderr",
     "output_type": "stream",
     "text": [
      "WARNING:root:Pandas support in corner is deprecated; use ArviZ directly\n"
     ]
    },
    {
     "data": {
      "image/png": "[encoded data removed]",
      "text/plain": [
       "<Figure size 547.2x547.2 with 9 Axes>"
      ]
     },
     "metadata": {
      "needs_background": "light"
     },
     "output_type": "display_data"
    }
   ],
   "source": [
    "corner.corner(no_nan_combo_df[['omega_y', 'mhsm', 'gmuon']], \n",
    "              range=((0, 2), (100, 135), (1e-14, 1e-10)),\n",
    "              )\n",
    "plt.show()"
   ]
  },
  {
   "cell_type": "code",
   "execution_count": null,
   "metadata": {},
   "outputs": [],
   "source": []
  }
 ],
 "metadata": {
  "interpreter": {
   "hash": "7b6fa73004c1ac35c4283a0261b9c7a6ecd923879e057f6882d8b8cc744129c4"
  },
  "kernelspec": {
   "display_name": "Python 3.8.5 64-bit ('mssm': conda)",
   "name": "python3"
  },
  "language_info": {
   "codemirror_mode": {
    "name": "ipython",
    "version": 3
   },
   "file_extension": ".py",
   "mimetype": "text/x-python",
   "name": "python",
   "nbconvert_exporter": "python",
   "pygments_lexer": "ipython3",
   "version": "3.8.5"
  },
  "orig_nbformat": 4
 },
 "nbformat": 4,
 "nbformat_minor": 2
}
